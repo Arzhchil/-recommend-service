{
 "cells": [
  {
   "cell_type": "code",
   "execution_count": 284,
   "id": "76425333",
   "metadata": {},
   "outputs": [],
   "source": [
    "from scipy.sparse import save_npz, load_npz, csr_matrix\n",
    "from sklearn.decomposition import TruncatedSVD\n",
    "from sklearn.neighbors import NearestNeighbors\n",
    "import sklearn\n",
    "import numpy as np\n",
    "import pandas as pd\n",
    "import pickle"
   ]
  },
  {
   "cell_type": "markdown",
   "id": "ec0399a7",
   "metadata": {},
   "source": [
    "### Загружаем подготовленную ранее разреженную матрицу (users, items)"
   ]
  },
  {
   "cell_type": "code",
   "execution_count": 4,
   "id": "fab364a6",
   "metadata": {},
   "outputs": [
    {
     "data": {
      "text/plain": [
       "<50785x23444 sparse matrix of type '<class 'numpy.float32'>'\n",
       "\twith 401071 stored elements in Compressed Sparse Row format>"
      ]
     },
     "execution_count": 4,
     "metadata": {},
     "output_type": "execute_result"
    }
   ],
   "source": [
    "train_set = load_npz('model_req/train_set_2023-05-27.npz')\n",
    "train_set"
   ]
  },
  {
   "cell_type": "markdown",
   "id": "4f234172",
   "metadata": {},
   "source": [
    "### Сжимаем векторное пространство до 256 компонентов"
   ]
  },
  {
   "cell_type": "code",
   "execution_count": 306,
   "id": "f1f35cbe",
   "metadata": {},
   "outputs": [],
   "source": [
    "svd = TruncatedSVD(n_components=256)\n",
    "X_dense = svd.fit_transform(train_set)"
   ]
  },
  {
   "cell_type": "markdown",
   "id": "6f80c686",
   "metadata": {},
   "source": [
    "### KNN на 128 ближайших соседей"
   ]
  },
  {
   "cell_type": "code",
   "execution_count": 307,
   "id": "19368ede",
   "metadata": {},
   "outputs": [
    {
     "data": {
      "text/html": [
       "<style>#sk-container-id-15 {color: black;background-color: white;}#sk-container-id-15 pre{padding: 0;}#sk-container-id-15 div.sk-toggleable {background-color: white;}#sk-container-id-15 label.sk-toggleable__label {cursor: pointer;display: block;width: 100%;margin-bottom: 0;padding: 0.3em;box-sizing: border-box;text-align: center;}#sk-container-id-15 label.sk-toggleable__label-arrow:before {content: \"▸\";float: left;margin-right: 0.25em;color: #696969;}#sk-container-id-15 label.sk-toggleable__label-arrow:hover:before {color: black;}#sk-container-id-15 div.sk-estimator:hover label.sk-toggleable__label-arrow:before {color: black;}#sk-container-id-15 div.sk-toggleable__content {max-height: 0;max-width: 0;overflow: hidden;text-align: left;background-color: #f0f8ff;}#sk-container-id-15 div.sk-toggleable__content pre {margin: 0.2em;color: black;border-radius: 0.25em;background-color: #f0f8ff;}#sk-container-id-15 input.sk-toggleable__control:checked~div.sk-toggleable__content {max-height: 200px;max-width: 100%;overflow: auto;}#sk-container-id-15 input.sk-toggleable__control:checked~label.sk-toggleable__label-arrow:before {content: \"▾\";}#sk-container-id-15 div.sk-estimator input.sk-toggleable__control:checked~label.sk-toggleable__label {background-color: #d4ebff;}#sk-container-id-15 div.sk-label input.sk-toggleable__control:checked~label.sk-toggleable__label {background-color: #d4ebff;}#sk-container-id-15 input.sk-hidden--visually {border: 0;clip: rect(1px 1px 1px 1px);clip: rect(1px, 1px, 1px, 1px);height: 1px;margin: -1px;overflow: hidden;padding: 0;position: absolute;width: 1px;}#sk-container-id-15 div.sk-estimator {font-family: monospace;background-color: #f0f8ff;border: 1px dotted black;border-radius: 0.25em;box-sizing: border-box;margin-bottom: 0.5em;}#sk-container-id-15 div.sk-estimator:hover {background-color: #d4ebff;}#sk-container-id-15 div.sk-parallel-item::after {content: \"\";width: 100%;border-bottom: 1px solid gray;flex-grow: 1;}#sk-container-id-15 div.sk-label:hover label.sk-toggleable__label {background-color: #d4ebff;}#sk-container-id-15 div.sk-serial::before {content: \"\";position: absolute;border-left: 1px solid gray;box-sizing: border-box;top: 0;bottom: 0;left: 50%;z-index: 0;}#sk-container-id-15 div.sk-serial {display: flex;flex-direction: column;align-items: center;background-color: white;padding-right: 0.2em;padding-left: 0.2em;position: relative;}#sk-container-id-15 div.sk-item {position: relative;z-index: 1;}#sk-container-id-15 div.sk-parallel {display: flex;align-items: stretch;justify-content: center;background-color: white;position: relative;}#sk-container-id-15 div.sk-item::before, #sk-container-id-15 div.sk-parallel-item::before {content: \"\";position: absolute;border-left: 1px solid gray;box-sizing: border-box;top: 0;bottom: 0;left: 50%;z-index: -1;}#sk-container-id-15 div.sk-parallel-item {display: flex;flex-direction: column;z-index: 1;position: relative;background-color: white;}#sk-container-id-15 div.sk-parallel-item:first-child::after {align-self: flex-end;width: 50%;}#sk-container-id-15 div.sk-parallel-item:last-child::after {align-self: flex-start;width: 50%;}#sk-container-id-15 div.sk-parallel-item:only-child::after {width: 0;}#sk-container-id-15 div.sk-dashed-wrapped {border: 1px dashed gray;margin: 0 0.4em 0.5em 0.4em;box-sizing: border-box;padding-bottom: 0.4em;background-color: white;}#sk-container-id-15 div.sk-label label {font-family: monospace;font-weight: bold;display: inline-block;line-height: 1.2em;}#sk-container-id-15 div.sk-label-container {text-align: center;}#sk-container-id-15 div.sk-container {/* jupyter's `normalize.less` sets `[hidden] { display: none; }` but bootstrap.min.css set `[hidden] { display: none !important; }` so we also need the `!important` here to be able to override the default hidden behavior on the sphinx rendered scikit-learn.org. See: https://github.com/scikit-learn/scikit-learn/issues/21755 */display: inline-block !important;position: relative;}#sk-container-id-15 div.sk-text-repr-fallback {display: none;}</style><div id=\"sk-container-id-15\" class=\"sk-top-container\"><div class=\"sk-text-repr-fallback\"><pre>NearestNeighbors(metric=&#x27;cosine&#x27;, n_neighbors=128)</pre><b>In a Jupyter environment, please rerun this cell to show the HTML representation or trust the notebook. <br />On GitHub, the HTML representation is unable to render, please try loading this page with nbviewer.org.</b></div><div class=\"sk-container\" hidden><div class=\"sk-item\"><div class=\"sk-estimator sk-toggleable\"><input class=\"sk-toggleable__control sk-hidden--visually\" id=\"sk-estimator-id-15\" type=\"checkbox\" checked><label for=\"sk-estimator-id-15\" class=\"sk-toggleable__label sk-toggleable__label-arrow\">NearestNeighbors</label><div class=\"sk-toggleable__content\"><pre>NearestNeighbors(metric=&#x27;cosine&#x27;, n_neighbors=128)</pre></div></div></div></div></div>"
      ],
      "text/plain": [
       "NearestNeighbors(metric='cosine', n_neighbors=128)"
      ]
     },
     "execution_count": 307,
     "metadata": {},
     "output_type": "execute_result"
    }
   ],
   "source": [
    "num_neighbors = 128\n",
    "knn = NearestNeighbors(n_neighbors=num_neighbors, metric='cosine')\n",
    "knn.fit(X_dense)"
   ]
  },
  {
   "cell_type": "markdown",
   "id": "4973b304",
   "metadata": {},
   "source": [
    "### Подгружаем ранее заготовленные словари, для \"расшифровки\" работы модели "
   ]
  },
  {
   "cell_type": "code",
   "execution_count": 329,
   "id": "2d8718df",
   "metadata": {},
   "outputs": [],
   "source": [
    "with open('model_req/id_to_user.pickle', 'rb') as fp:\n",
    "    id_to_user = pickle.load(fp)\n",
    "\n",
    "with open('model_req/user_to_id.pickle', 'rb') as fp:\n",
    "    user_to_id = pickle.load(fp)    "
   ]
  },
  {
   "cell_type": "code",
   "execution_count": 43,
   "id": "1852ef63",
   "metadata": {},
   "outputs": [
    {
     "data": {
      "text/html": [
       "<div>\n",
       "<style scoped>\n",
       "    .dataframe tbody tr th:only-of-type {\n",
       "        vertical-align: middle;\n",
       "    }\n",
       "\n",
       "    .dataframe tbody tr th {\n",
       "        vertical-align: top;\n",
       "    }\n",
       "\n",
       "    .dataframe thead th {\n",
       "        text-align: right;\n",
       "    }\n",
       "</style>\n",
       "<table border=\"1\" class=\"dataframe\">\n",
       "  <thead>\n",
       "    <tr style=\"text-align: right;\">\n",
       "      <th></th>\n",
       "      <th>уникальный номер занятия</th>\n",
       "      <th>уникальный номер группы</th>\n",
       "      <th>уникальный номер участника</th>\n",
       "      <th>направление 2</th>\n",
       "      <th>направление 3</th>\n",
       "      <th>онлайн/офлайн</th>\n",
       "      <th>дата занятия</th>\n",
       "      <th>время начала занятия</th>\n",
       "      <th>время окончания занятия</th>\n",
       "    </tr>\n",
       "  </thead>\n",
       "  <tbody>\n",
       "    <tr>\n",
       "      <th>0</th>\n",
       "      <td>401346550</td>\n",
       "      <td>801346550</td>\n",
       "      <td>101352023</td>\n",
       "      <td>ОНЛАЙН Гимнастика</td>\n",
       "      <td>ОНЛАЙН Цигун</td>\n",
       "      <td>Да</td>\n",
       "      <td>2022-08-01</td>\n",
       "      <td>09:00:00</td>\n",
       "      <td>10:00:00</td>\n",
       "    </tr>\n",
       "    <tr>\n",
       "      <th>1</th>\n",
       "      <td>401346550</td>\n",
       "      <td>801346550</td>\n",
       "      <td>101385462</td>\n",
       "      <td>ОНЛАЙН Гимнастика</td>\n",
       "      <td>ОНЛАЙН Цигун</td>\n",
       "      <td>Да</td>\n",
       "      <td>2022-08-01</td>\n",
       "      <td>09:00:00</td>\n",
       "      <td>10:00:00</td>\n",
       "    </tr>\n",
       "    <tr>\n",
       "      <th>2</th>\n",
       "      <td>401346550</td>\n",
       "      <td>801346550</td>\n",
       "      <td>101421897</td>\n",
       "      <td>ОНЛАЙН Гимнастика</td>\n",
       "      <td>ОНЛАЙН Цигун</td>\n",
       "      <td>Да</td>\n",
       "      <td>2022-08-01</td>\n",
       "      <td>09:00:00</td>\n",
       "      <td>10:00:00</td>\n",
       "    </tr>\n",
       "    <tr>\n",
       "      <th>3</th>\n",
       "      <td>401346550</td>\n",
       "      <td>801346550</td>\n",
       "      <td>101354499</td>\n",
       "      <td>ОНЛАЙН Гимнастика</td>\n",
       "      <td>ОНЛАЙН Цигун</td>\n",
       "      <td>Да</td>\n",
       "      <td>2022-08-01</td>\n",
       "      <td>09:00:00</td>\n",
       "      <td>10:00:00</td>\n",
       "    </tr>\n",
       "    <tr>\n",
       "      <th>4</th>\n",
       "      <td>401346550</td>\n",
       "      <td>801346550</td>\n",
       "      <td>101421312</td>\n",
       "      <td>ОНЛАЙН Гимнастика</td>\n",
       "      <td>ОНЛАЙН Цигун</td>\n",
       "      <td>Да</td>\n",
       "      <td>2022-08-01</td>\n",
       "      <td>09:00:00</td>\n",
       "      <td>10:00:00</td>\n",
       "    </tr>\n",
       "  </tbody>\n",
       "</table>\n",
       "</div>"
      ],
      "text/plain": [
       "   уникальный номер занятия  уникальный номер группы   \n",
       "0                 401346550                801346550  \\\n",
       "1                 401346550                801346550   \n",
       "2                 401346550                801346550   \n",
       "3                 401346550                801346550   \n",
       "4                 401346550                801346550   \n",
       "\n",
       "   уникальный номер участника      направление 2 направление 3 онлайн/офлайн   \n",
       "0                   101352023  ОНЛАЙН Гимнастика  ОНЛАЙН Цигун            Да  \\\n",
       "1                   101385462  ОНЛАЙН Гимнастика  ОНЛАЙН Цигун            Да   \n",
       "2                   101421897  ОНЛАЙН Гимнастика  ОНЛАЙН Цигун            Да   \n",
       "3                   101354499  ОНЛАЙН Гимнастика  ОНЛАЙН Цигун            Да   \n",
       "4                   101421312  ОНЛАЙН Гимнастика  ОНЛАЙН Цигун            Да   \n",
       "\n",
       "  дата занятия время начала занятия время окончания занятия  \n",
       "0   2022-08-01             09:00:00                10:00:00  \n",
       "1   2022-08-01             09:00:00                10:00:00  \n",
       "2   2022-08-01             09:00:00                10:00:00  \n",
       "3   2022-08-01             09:00:00                10:00:00  \n",
       "4   2022-08-01             09:00:00                10:00:00  "
      ]
     },
     "execution_count": 43,
     "metadata": {},
     "output_type": "execute_result"
    }
   ],
   "source": [
    "attend_df = pd.read_csv('datasets/attend.csv')\n",
    "attend_df.head()"
   ]
  },
  {
   "cell_type": "markdown",
   "id": "d1563f99",
   "metadata": {},
   "source": [
    "### Пример работы модели"
   ]
  },
  {
   "cell_type": "code",
   "execution_count": 330,
   "id": "66abf9c2",
   "metadata": {
    "collapsed": true
   },
   "outputs": [
    {
     "data": {
      "text/plain": [
       "(array([[0.        , 0.3281362 , 0.32823992, 0.32938755, 0.33296984,\n",
       "         0.33374304, 0.3359201 , 0.3505534 , 0.35254216, 0.356645  ,\n",
       "         0.35775393, 0.36317456, 0.36633158, 0.36840177, 0.36872262,\n",
       "         0.37098092, 0.37253886, 0.37280202, 0.37323058, 0.3749122 ,\n",
       "         0.3760413 , 0.37620807, 0.37620807, 0.37620807, 0.3769377 ,\n",
       "         0.37753332, 0.37763226, 0.37784624, 0.37793565, 0.37796414,\n",
       "         0.37801814, 0.37839448, 0.37895715, 0.3791883 , 0.3810054 ,\n",
       "         0.3828938 , 0.3856423 , 0.3865556 , 0.3871777 , 0.38747847,\n",
       "         0.3956871 , 0.3966517 , 0.39762795, 0.39767194, 0.3982473 ,\n",
       "         0.40167135, 0.40271038, 0.40361023, 0.40478277, 0.405146  ,\n",
       "         0.40842658, 0.41098338, 0.41438097, 0.4178416 , 0.41794372,\n",
       "         0.41963655, 0.42606091, 0.42834628, 0.42834628, 0.42834628,\n",
       "         0.42834628, 0.43151426, 0.43169928, 0.43247193, 0.43318307,\n",
       "         0.43330884, 0.43586326, 0.43686724, 0.43711627, 0.43875253,\n",
       "         0.44032407, 0.44548059, 0.44987357, 0.45444393, 0.45450968,\n",
       "         0.4585458 , 0.46054173, 0.46199763, 0.4620071 , 0.46233195,\n",
       "         0.46252036, 0.46449244, 0.4682405 , 0.46944284, 0.46944284,\n",
       "         0.46944284, 0.47018468, 0.47302592, 0.48109436, 0.48493952,\n",
       "         0.48652542, 0.48702157, 0.49032176, 0.49318385, 0.49510008,\n",
       "         0.50169015, 0.50170803, 0.5031967 , 0.5041552 , 0.5056779 ,\n",
       "         0.50745654, 0.5075844 , 0.5078544 , 0.5165743 , 0.51814973,\n",
       "         0.518185  , 0.52083313, 0.5237412 , 0.52454686, 0.5246034 ,\n",
       "         0.5251967 , 0.525813  , 0.5259753 , 0.52695763, 0.52695763,\n",
       "         0.52695763, 0.52695763, 0.5286031 , 0.5299258 , 0.530154  ,\n",
       "         0.5307891 , 0.53096145, 0.53128195, 0.5314994 , 0.5322413 ,\n",
       "         0.5339825 , 0.534393  , 0.5351219 ]], dtype=float32),\n",
       " array([[    0, 12584, 20065, 13268, 22634, 30717, 18360, 24575, 39088,\n",
       "         44838, 13525, 32724, 15005,  6773, 31901, 35886,   229,  6787,\n",
       "            32, 46733,   546, 44865, 32511, 21443,  2743, 31607, 30009,\n",
       "         42965, 23200, 36003, 22266, 24265, 18851, 33584, 28776, 26765,\n",
       "          2154, 38960, 35475, 42904, 21075,   491,  1187, 19077, 38424,\n",
       "         16048, 49846, 47898, 21959, 38345, 40737,  7027,  9167,  6247,\n",
       "         14871, 25857,  9325, 50124, 50545, 50164, 35172,  3472, 22923,\n",
       "         42154, 44822, 36698, 17047,  3679,  4040,  2891, 30092,  6834,\n",
       "         33183, 36295,  1552, 14593, 20992, 36051,  6785, 17205, 25267,\n",
       "         19447, 30796, 26977, 28480, 27566, 37714,  2584, 24589, 28468,\n",
       "         33853,    40, 48514, 27882,  2963, 44707, 28679, 17904, 38610,\n",
       "         18312, 45157, 26592,    14, 27790, 31622, 14850,  2272, 38949,\n",
       "         10426, 16854, 14367, 14550, 48390,  7149,  9959, 18056, 22450,\n",
       "         24903, 49019, 34267,   862, 30060, 33926, 33801,  9491,  1204,\n",
       "         32513, 10768]], dtype=int64))"
      ]
     },
     "execution_count": 330,
     "metadata": {},
     "output_type": "execute_result"
    }
   ],
   "source": [
    "row_dense = svd.transform(train_set[user_to_id[101346552]])\n",
    "results = knn.kneighbors(row_dense, num_neighbors)\n",
    "\n",
    "results"
   ]
  },
  {
   "cell_type": "code",
   "execution_count": 301,
   "id": "c25dd2ef",
   "metadata": {},
   "outputs": [
    {
     "data": {
      "text/plain": [
       "array(['Зумба', 'ОНЛАЙН Восточные танцы', 'Калланетика',\n",
       "       'ОНЛАЙН Танцы для всех',\n",
       "       'ОНЛАЙН География. Путешествия вокруг света', 'Танцы для всех',\n",
       "       'ОНЛАЙН Здорово жить', 'ОНЛАЙН История искусства', 'Хоровое пение',\n",
       "       'ОНЛАЙН Литература', 'ИЗО', 'Различные техники рисования',\n",
       "       'Краеведение и пешие прогулки',\n",
       "       'ОНЛАЙН Краеведение и онлайн-экскурсии'], dtype=object)"
      ]
     },
     "execution_count": 301,
     "metadata": {},
     "output_type": "execute_result"
    }
   ],
   "source": [
    "attend_df[attend_df['уникальный номер участника'] == id_to_user[1701]]['направление 3'].unique()"
   ]
  },
  {
   "cell_type": "code",
   "execution_count": 302,
   "id": "1558c192",
   "metadata": {},
   "outputs": [
    {
     "data": {
      "text/plain": [
       "array(['ОНЛАЙН Суставная гимнастика', 'ОНЛАЙН История, культура Москвы',\n",
       "       'ОНЛАЙН Краеведение и онлайн-экскурсии', 'Йога',\n",
       "       'Роспись по дереву. Художественная обработка древесины',\n",
       "       'Краеведение и пешие прогулки', 'История, культура Москвы',\n",
       "       'ОНЛАЙН Здорово жить', 'ОНЛАЙН История, культура России',\n",
       "       'ОНЛАЙН Танцы для всех',\n",
       "       'ОНЛАЙН Краеведение и онлайн-экскурсии по Москве и России',\n",
       "       'ОНЛАЙН История искусства', 'ОНЛАЙН Основы духовной культуры',\n",
       "       'ОНЛАЙН Литература', 'ОНЛАЙН География. Путешествия вокруг света',\n",
       "       'Английский язык',\n",
       "       'ОНЛАЙН Мастер-класс по уходу за кожей в зрелом возрасте',\n",
       "       'ОНЛАЙН Правильное питание', 'ОНЛАЙН Школа макияжа'], dtype=object)"
      ]
     },
     "execution_count": 302,
     "metadata": {},
     "output_type": "execute_result"
    }
   ],
   "source": [
    "attend_df[attend_df['уникальный номер участника'] == 101346998]['направление 3'].unique()"
   ]
  },
  {
   "cell_type": "markdown",
   "id": "d9632563",
   "metadata": {},
   "source": [
    "### Сохраняем новый файлы"
   ]
  },
  {
   "cell_type": "code",
   "execution_count": 311,
   "id": "97c1119e",
   "metadata": {},
   "outputs": [],
   "source": [
    "with open('model_req/knn.pickle', 'wb') as knnPickle:\n",
    "    pickle.dump(knn, knnPickle)\n",
    "    \n",
    "with open('model_req/svd.pickle', 'wb') as svdPickle:\n",
    "    pickle.dump(svd, svdPickle)"
   ]
  }
 ],
 "metadata": {
  "kernelspec": {
   "display_name": "LCT",
   "language": "python",
   "name": "lct"
  },
  "language_info": {
   "codemirror_mode": {
    "name": "ipython",
    "version": 3
   },
   "file_extension": ".py",
   "mimetype": "text/x-python",
   "name": "python",
   "nbconvert_exporter": "python",
   "pygments_lexer": "ipython3",
   "version": "3.10.7"
  }
 },
 "nbformat": 4,
 "nbformat_minor": 5
}
