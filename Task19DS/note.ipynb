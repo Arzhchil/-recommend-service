{
 "cells": [
  {
   "cell_type": "code",
   "execution_count": null,
   "id": "3b8a31b4",
   "metadata": {},
   "outputs": [],
   "source": [
    "import numpy as np\n",
    "import pandas as pd"
   ]
  },
  {
   "cell_type": "code",
   "execution_count": null,
   "id": "7b7e9de9",
   "metadata": {},
   "outputs": [],
   "source": [
    "attend = pd.read_csv('datasets/attend.csv')\n",
    "groups = pd.read_csv('datasets/groups.csv')\n",
    "test = pd.read_csv('datasets/test.csv')\n",
    "users = pd.read_csv('datasets/users.csv')"
   ]
  },
  {
   "cell_type": "code",
   "execution_count": null,
   "id": "709b7db1",
   "metadata": {},
   "outputs": [],
   "source": [
    "dict_df = pd.read_excel('datasets/dict.xlsx')"
   ]
  },
  {
   "cell_type": "code",
   "execution_count": null,
   "id": "6c0d64e6",
   "metadata": {},
   "outputs": [],
   "source": [
    "attend.sample(10)"
   ]
  },
  {
   "cell_type": "code",
   "execution_count": null,
   "id": "af4dffda",
   "metadata": {},
   "outputs": [],
   "source": [
    "dict_df"
   ]
  },
  {
   "cell_type": "code",
   "execution_count": null,
   "id": "8648487c",
   "metadata": {},
   "outputs": [],
   "source": [
    "groups"
   ]
  },
  {
   "cell_type": "code",
   "execution_count": null,
   "id": "23f27bed",
   "metadata": {},
   "outputs": [],
   "source": [
    "groups['уникальный номер'].unique().shape"
   ]
  },
  {
   "cell_type": "code",
   "execution_count": null,
   "id": "98384a97",
   "metadata": {},
   "outputs": [],
   "source": [
    "test.sort_values('уникальный номер участника')"
   ]
  },
  {
   "cell_type": "code",
   "execution_count": null,
   "id": "74ebadb1",
   "metadata": {},
   "outputs": [],
   "source": [
    "users.sort_values('уникальный номер')"
   ]
  },
  {
   "cell_type": "code",
   "execution_count": null,
   "id": "1742a113",
   "metadata": {},
   "outputs": [],
   "source": [
    "combine_df = pd.merge(groups, dict_df, how='left', left_on=['направление 1', 'направление 2', 'направление 3'], right_on=['level1', 'level2', 'leve3'])\n",
    "combine_df"
   ]
  },
  {
   "cell_type": "code",
   "execution_count": null,
   "id": "76d2de9c",
   "metadata": {},
   "outputs": [],
   "source": [
    "combine_df.drop(['id_level1', 'level1', 'id_level2', 'level2', 'id_level3', 'leve3', 'd_level2', 'd_level3'], axis=1, inplace=True)"
   ]
  },
  {
   "cell_type": "code",
   "execution_count": null,
   "id": "54a00287",
   "metadata": {},
   "outputs": [],
   "source": [
    "combine_df"
   ]
  },
  {
   "cell_type": "code",
   "execution_count": null,
   "id": "3040076f",
   "metadata": {},
   "outputs": [],
   "source": [
    "combine_df = combine_df[['уникальный номер', 'Разметка: Для ума/ Для души / Для тела', 'направление 1', 'направление 2', 'направление 3', 'адрес площадки', 'округ площадки', 'район площадки', 'расписание в активных периодах', 'расписание в закрытых периодах', 'расписание в плановом периоде', 'd_level1']]"
   ]
  },
  {
   "cell_type": "code",
   "execution_count": null,
   "id": "1c873513",
   "metadata": {},
   "outputs": [],
   "source": [
    "combine_df"
   ]
  },
  {
   "cell_type": "code",
   "execution_count": null,
   "id": "1b1e4e08",
   "metadata": {},
   "outputs": [],
   "source": [
    "combine_df.rename(columns={'уникальный номер': 'id', 'Разметка: Для ума/ Для души / Для тела': 'level_1', 'направление 1': 'level_2', 'направление 2': 'level_3', 'направление 3': 'level_4', 'адрес площадки': 'address', 'округ площадки': 'district', 'район площадки': 'area', 'расписание в активных периодах': 'schedule_active', 'расписание в закрытых периодах': 'schedule_close', 'расписание в плановом периоде': 'schedule_plan', 'd_level1': 'description'}, inplace=True)"
   ]
  },
  {
   "cell_type": "code",
   "execution_count": null,
   "id": "c6341321",
   "metadata": {},
   "outputs": [],
   "source": [
    "combine_df.to_csv('datasets/combine_df.csv', encoding='utf-8', index=False)"
   ]
  },
  {
   "cell_type": "code",
   "execution_count": null,
   "id": "5a30ab3c",
   "metadata": {},
   "outputs": [],
   "source": []
  }
 ],
 "metadata": {
  "kernelspec": {
   "display_name": "LCT",
   "language": "python",
   "name": "lct"
  },
  "language_info": {
   "codemirror_mode": {
    "name": "ipython",
    "version": 3
   },
   "file_extension": ".py",
   "mimetype": "text/x-python",
   "name": "python",
   "nbconvert_exporter": "python",
   "pygments_lexer": "ipython3",
   "version": "3.10.7"
  }
 },
 "nbformat": 4,
 "nbformat_minor": 5
}
